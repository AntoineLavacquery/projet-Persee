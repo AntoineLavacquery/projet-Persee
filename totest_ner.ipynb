{
 "cells": [
  {
   "cell_type": "code",
   "execution_count": 7,
   "metadata": {},
   "outputs": [
    {
     "name": "stderr",
     "output_type": "stream",
     "text": [
      "2023-02-02 14:48:20 INFO: Checking for updates to resources.json in case models have been updated.  Note: this behavior can be turned off with download_method=None or download_method=DownloadMethod.REUSE_RESOURCES\n"
     ]
    },
    {
     "data": {
      "application/vnd.jupyter.widget-view+json": {
       "model_id": "21df2e488a354c69b48888e8409bbae3",
       "version_major": 2,
       "version_minor": 0
      },
      "text/plain": [
       "Downloading https://raw.githubusercontent.com/stanfordnlp/stanza-resources/main/resources_1.4.1.json:   0%|   …"
      ]
     },
     "metadata": {},
     "output_type": "display_data"
    },
    {
     "name": "stderr",
     "output_type": "stream",
     "text": [
      "2023-02-02 14:48:21 WARNING: Language fr package default expects mwt, which has been added\n",
      "2023-02-02 14:48:21 INFO: Loading these models for language: fr (French):\n",
      "=======================\n",
      "| Processor | Package |\n",
      "-----------------------\n",
      "| tokenize  | gsd     |\n",
      "| mwt       | gsd     |\n",
      "| ner       | wikiner |\n",
      "=======================\n",
      "\n",
      "2023-02-02 14:48:21 INFO: Use device: cpu\n",
      "2023-02-02 14:48:21 INFO: Loading: tokenize\n",
      "2023-02-02 14:48:21 INFO: Loading: mwt\n",
      "2023-02-02 14:48:21 INFO: Loading: ner\n",
      "2023-02-02 14:48:23 INFO: Done loading processors!\n"
     ]
    }
   ],
   "source": [
    "import stanza\n",
    "# nlp = stanza.Pipeline('fr')\n",
    "nlp = stanza.Pipeline(lang='fr', processors='tokenize,ner')"
   ]
  },
  {
   "cell_type": "code",
   "execution_count": 21,
   "metadata": {},
   "outputs": [
    {
     "name": "stdout",
     "output_type": "stream",
     "text": [
      "entity: P. Vergili Maronis\ttype: PER\n",
      "entity: E. Galletier\ttype: PER\n",
      "entity: M. Gailetier\ttype: PER\n",
      "entity: Catalepta\ttype: PER\n",
      "entity: Galletier\ttype: PER\n",
      "entity: Suétone\ttype: PER\n",
      "entity: Virgile\ttype: PER\n",
      "entity: Kax\ttype: PER\n",
      "entity: Epigrammata\ttype: PER\n",
      "entity: Diras\ttype: PER\n",
      "entity: Galletier\ttype: PER\n",
      "entity: Priapea\ttype: PER\n",
      "entity: Epigrammata\ttype: PER\n",
      "entity: Callida\ttype: PER\n",
      "entity: Domitien\ttype: PER\n",
      "entity: Néron\ttype: PER\n",
      "entity: Virgile\ttype: PER\n",
      "entity: Tibulle\ttype: PER\n",
      "entity: M. Galletier\ttype: PER\n",
      "entity: Sabbadini\ttype: PER\n",
      "entity: Gurcio\ttype: PER\n",
      "entity: Vollmer\ttype: PER\n",
      "entity: Birt\ttype: PER\n",
      "entity: Gubernatis\ttype: PER\n",
      "entity: Villula\ttype: PER\n",
      "entity: Catulle X\ttype: PER\n",
      "entity: Sabinus Me\ttype: PER\n",
      "entity: Virgile\ttype: PER\n",
      "entity: Varius\ttype: PER\n",
      "entity: Octavius Musa\ttype: PER\n",
      "entity: Messala\ttype: PER\n",
      "entity: Virgile\ttype: PER\n",
      "entity: Jacere me\ttype: PER\n",
      "entity: Galletier\ttype: PER\n",
      "entity: Virgile\ttype: PER\n",
      "entity: Catulle\ttype: PER\n",
      "entity: Cimber\ttype: PER\n",
      "entity: XII\ttype: PER\n",
      "entity: XIII\ttype: PER\n",
      "entity: Virgile\ttype: PER\n",
      "entity: Racine\ttype: PER\n",
      "entity: Virgile\ttype: PER\n",
      "entity: Galletier\ttype: PER\n",
      "entity: Priapées\ttype: PER\n",
      "entity: Épigrammes\ttype: PER\n",
      "entity: Catulle\ttype: PER\n",
      "entity: H\ttype: PER\n",
      "entity: M. Galletier\ttype: PER\n",
      "entity: Birt\ttype: PER\n",
      "entity: Gubernatis\ttype: PER\n",
      "entity: René Pichon\ttype: PER\n"
     ]
    }
   ],
   "source": [
    "with open('/Users/antoinelavacquery/Dropbox/Master_HN/S3/projetPersee/text.txt', 'r') as f:\n",
    "    text = f.read()\n",
    "\n",
    "doc = nlp(text)\n",
    "\n",
    "# print(*[f'entity: {ent.text}\\ttype: {ent.type}' for ent in doc.ents], sep='\\n')\n",
    "\n",
    "for ent in doc.ents:\n",
    "    if ent.type == 'PER':\n",
    "        print(f'entity: {ent.text}\\ttype: {ent.type}')"
   ]
  },
  {
   "cell_type": "code",
   "execution_count": null,
   "metadata": {},
   "outputs": [],
   "source": []
  }
 ],
 "metadata": {
  "kernelspec": {
   "display_name": "Python 3",
   "language": "python",
   "name": "python3"
  },
  "language_info": {
   "codemirror_mode": {
    "name": "ipython",
    "version": 3
   },
   "file_extension": ".py",
   "mimetype": "text/x-python",
   "name": "python",
   "nbconvert_exporter": "python",
   "pygments_lexer": "ipython3",
   "version": "3.10.9 (main, Dec 15 2022, 17:11:09) [Clang 14.0.0 (clang-1400.0.29.202)]"
  },
  "orig_nbformat": 4,
  "vscode": {
   "interpreter": {
    "hash": "b0fa6594d8f4cbf19f97940f81e996739fb7646882a419484c72d19e05852a7e"
   }
  }
 },
 "nbformat": 4,
 "nbformat_minor": 2
}
