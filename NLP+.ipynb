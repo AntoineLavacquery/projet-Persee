{
 "cells": [
  {
   "attachments": {},
   "cell_type": "markdown",
   "metadata": {},
   "source": [
    "# NLP+"
   ]
  },
  {
   "cell_type": "markdown",
   "metadata": {},
   "source": [
    "Fichier pris en entrée :\n",
    "- clean_{date}.json -> provient du notebook **nettoyeur**\n",
    "\n",
    "Fichiers de sortie produits par le notebook :\n",
    "- org.txt -> point de référence pour comparer la qualité du nettoyage\n",
    "- NLP_{type_pipeline}_{date}.html -> **fichier HTML des résultats de la NER**\n"
   ]
  },
  {
   "cell_type": "code",
   "execution_count": 23,
   "metadata": {},
   "outputs": [],
   "source": [
    "import pandas as pd\n",
    "\n",
    "import spacy\n",
    "from spacy import displacy\n",
    "from collections import Counter\n",
    "\n",
    "# Pipelines au choix small, medium, large (du - au + précis)\n",
    "# import fr_core_news_sm\n",
    "import fr_core_news_md\n",
    "# import fr_core_news_lg\n",
    "nlp = fr_core_news_md.load()\n",
    "\n",
    "from pprint import pprint\n",
    "\n",
    "from datetime import date\n",
    "import time\n",
    "\n",
    "import json"
   ]
  },
  {
   "cell_type": "code",
   "execution_count": 24,
   "metadata": {},
   "outputs": [],
   "source": [
    "# Variables à changer par l'utilisateur\n",
    "source_json = 'clean_11-Dec-22.json'\n",
    "pipeline = \"fr_core_news_md\" # /!\\ PENSER À CHANGER PLUS HAUT\n",
    "nb_a_traiter = 20"
   ]
  },
  {
   "cell_type": "code",
   "execution_count": 25,
   "metadata": {},
   "outputs": [],
   "source": [
    "# Importation des données depuis le JSON\n",
    "df = pd.read_json(source_json, orient='index')\n",
    "\n",
    "# Définition de l'en tête général\n",
    "date = time.strftime(\"%d-%b-%y\")\n",
    "\n",
    "# HTML description des labels\n",
    "labels_description = \"\"\"\n",
    "<p><strong>PERSON:</strong> People, including fictional.&emsp;<strong>NORP:</strong> Nationalities or religious or political groups.&emsp;\n",
    "<strong>FAC:</strong> Buildings, airports, highways, bridges, etc.&emsp;<strong>ORG:</strong> Companies, agencies, institutions, etc.&emsp;\n",
    "<strong>GPE:</strong> Countries, cities, states.&emsp;<strong>LOC:</strong> Non-GPE locations, mountain ranges, bodies of water.&emsp;\n",
    "<strong>PRODUCT:</strong> Objects, vehicles, foods, etc. (Not services.)&emsp;<strong>EVENT:</strong> Named hurricanes, battles, wars, sports events, etc.&emsp;\n",
    "<strong>WORK_OF_ART:</strong> Titles of books, songs, etc.&emsp;<strong>LAW:</strong> Named documents made into laws.&emsp;<strong>LANGUAGE:</strong> Any named language.&emsp;\n",
    "<strong>DATE:</strong> Absolute or relative dates or periods.&emsp;<strong>TIME:</strong> Times smaller than a day.&emsp;<strong>PERCENT:</strong> Percentage, including \"%\".&emsp;\n",
    "<strong>MONEY:</strong> Monetary values, including unit.&emsp;<strong>QUANTITY:</strong> Measurements, as of weight or distance.&emsp;<strong>ORDINAL:</strong> \"first\", \"second\", etc.&emsp;\n",
    "<strong>CARDINAL:</strong> Numerals that do not fall under another type.</p>\n",
    "\"\"\"\n",
    "\n",
    "heading = f\"\"\"\n",
    "    <p><strong>date:</strong> {date}</p>\n",
    "    <p><strong>source:</strong> {source_json}</p>\n",
    "    <p><strong>pipeline:</strong> {pipeline}</p>\n",
    "    <p><strong>quantity processessed:</strong> {nb_a_traiter}</p>\n",
    "    <hr>\n",
    "    {labels_description}\n",
    "    \"\"\"\n",
    "\n",
    "# (Re)création d'un fichier de sortie propre + en tête\n",
    "nom_fichier = f\"NLP_{pipeline[-2:]}_{date}\"\n",
    "\n",
    "with open(f\"{nom_fichier}.html\", \"w\") as fichier:\n",
    "    fichier.write(heading)"
   ]
  },
  {
   "cell_type": "code",
   "execution_count": 26,
   "metadata": {},
   "outputs": [],
   "source": [
    "# Personnalisation des couleurs du rendu\n",
    "colors = {\n",
    "    \"PER\": \"#97C7E8\",\n",
    "    \"ORG\": \"#A4DBA4\",\n",
    "    \"GPE\": \"#F2937C\",\n",
    "    \"LOC\": \"#AE9DF2\",\n",
    "    \"EVENT\": \"#E8BC76\",\n",
    "    \"WORK_OF_ART\": \"#DB99DB\",\n",
    "    \"MISC\": \"#F2A99D\",\n",
    "    \"DATE\": \"#A7F2BD\",\n",
    "    \"ORDINAL\": \"#E8D3A2\",\n",
    "    \"CARDINAL\": \"#E8D3A2\",\n",
    "}"
   ]
  },
  {
   "cell_type": "code",
   "execution_count": 27,
   "metadata": {},
   "outputs": [],
   "source": [
    "# Boucle de constitution du HTML\n",
    "for i in range(nb_a_traiter): # range(len(df.index))\n",
    "    title = df.loc[i, 'area_title']\n",
    "    text = df.loc[i, 'area_text']\n",
    "    \n",
    "    doc = nlp(text)\n",
    "\n",
    "    sentence_tokens = len([[token.text for token in sent] for sent in doc.sents])\n",
    "\n",
    "    # Pour inscrire le titre direcement dans le rendu displacy\n",
    "    # doc.user_data[\"title\"] = f\"index = {i} | \" + title\n",
    "\n",
    "    # Génération du rendu displacy\n",
    "    html = displacy.render(doc, style=\"ent\", jupyter=False, page=True, options={\"colors\": colors})\n",
    "\n",
    "    # Définition de l'en tête pour chaque résultat\n",
    "    headings = f\"\"\"\n",
    "    <hr>\n",
    "    <p><strong>index:</strong> {i}</p>\n",
    "    <p><strong>title:</strong> {title}</p>\n",
    "    <p><strong>number of sentecences:</strong> {sentence_tokens}</p>\n",
    "    \"\"\"\n",
    "\n",
    "    # Inscription de l'en tête + inscription de résultat\n",
    "    with open(f\"{nom_fichier}.html\", 'a') as fichier:\n",
    "        fichier.write(headings)\n",
    "        fichier.write(str(html))"
   ]
  },
  {
   "cell_type": "code",
   "execution_count": 28,
   "metadata": {},
   "outputs": [
    {
     "name": "stdout",
     "output_type": "stream",
     "text": [
      "44\n"
     ]
    }
   ],
   "source": [
    "# Nombre de requêtes dans la dernière\n",
    "sentence_tokens = [[token.text for token in sent] for sent in doc.sents]\n",
    "print(len(sentence_tokens))"
   ]
  },
  {
   "cell_type": "code",
   "execution_count": 29,
   "metadata": {},
   "outputs": [
    {
     "data": {
      "text/plain": [
       "[('A. Meillet', 'PER'),\n",
       " ('M. Meillet', 'PER'),\n",
       " ('M. Brugmann', 'PER'),\n",
       " ('J. Vendhyes', 'PER')]"
      ]
     },
     "execution_count": 29,
     "metadata": {},
     "output_type": "execute_result"
    }
   ],
   "source": [
    "text = df.loc[301, \"area_text\"]\n",
    "\n",
    "doc = nlp(text)\n",
    "\n",
    "# [print(f'ent.text = {ent.text}', f'ent.lablel_ = {ent.label_}') for ent in doc.ents]\n",
    "# [(ent.text, ent.label_) for ent in doc.ents[5]]\n",
    "\n",
    "# Liste de personnes par doc\n",
    "pers = [(ent.text, ent.label_) for ent in doc.ents if ent.label_ == \"PER\"]\n",
    "pers = list(dict.fromkeys(pers))\n",
    "# Suppression des doublons\n",
    "\n",
    "pers\n",
    "# for ent in doc.ents:\n",
    "#     if ent.label_ == 'PER':\n",
    "#         print(ent.text, ent.label_)\n"
   ]
  },
  {
   "cell_type": "code",
   "execution_count": 33,
   "metadata": {},
   "outputs": [],
   "source": [
    "# Chargement des données\n",
    "with open(\"data/liste_auteurs_JSON.json\", \"r\") as f:\n",
    "    data = json.loads(f.read())\n",
    "\n",
    "# Descente dans l'arborescence du JSON afin de trouver les résultats\n",
    "# -> dans le JSON, 'bindings' contient nos résultats d'où le nom de la variable\n",
    "bindings = data['results']['bindings']\n",
    "\n",
    "# Déclaration de la master liste\n",
    "total = []\n",
    "\n",
    "for binding in bindings:\n",
    "    # Liste de champs utilisée juste le temps de la boucle\n",
    "    champs = []\n",
    "\n",
    "    # Constitution de la liste\n",
    "    URI_doc = binding['Document']['value']\n",
    "    URI_person = binding['Creator']['value']\n",
    "    name = binding['Name']['value']\n",
    "    champs.append(URI_doc)\n",
    "    champs.append(URI_person)\n",
    "    champs.append(name)\n",
    "\n",
    "    # Ajout à la master liste\n",
    "    total.append(champs)\n",
    "\n",
    "# Convertion en dataframe\n",
    "colonnes = ['URI_doc', 'URI_person', 'name']\n",
    "df_JSON_total = pd.DataFrame(total, columns=colonnes)\n"
   ]
  },
  {
   "cell_type": "code",
   "execution_count": null,
   "metadata": {},
   "outputs": [],
   "source": []
  }
 ],
 "metadata": {
  "kernelspec": {
   "display_name": "Python 3.10.8 64-bit",
   "language": "python",
   "name": "python3"
  },
  "language_info": {
   "codemirror_mode": {
    "name": "ipython",
    "version": 3
   },
   "file_extension": ".py",
   "mimetype": "text/x-python",
   "name": "python",
   "nbconvert_exporter": "python",
   "pygments_lexer": "ipython3",
   "version": "3.10.8 (main, Oct 13 2022, 09:48:40) [Clang 14.0.0 (clang-1400.0.29.102)]"
  },
  "orig_nbformat": 4,
  "vscode": {
   "interpreter": {
    "hash": "b0fa6594d8f4cbf19f97940f81e996739fb7646882a419484c72d19e05852a7e"
   }
  }
 },
 "nbformat": 4,
 "nbformat_minor": 2
}
