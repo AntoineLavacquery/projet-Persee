{
 "cells": [
  {
   "attachments": {},
   "cell_type": "markdown",
   "metadata": {},
   "source": [
    "# Spacy NER HTML out"
   ]
  },
  {
   "attachments": {},
   "cell_type": "markdown",
   "metadata": {},
   "source": [
    "Fichier pris en entrée :\n",
    "- clean_{date}.json -> provient du notebook **nettoyeur**\n",
    "\n",
    "Fichiers de sortie produits par le notebook :\n",
    "- NLP_{date}_{type_pipeline}_{nombre_resultats}.html -> **fichier HTML des résultats de la NER**"
   ]
  },
  {
   "cell_type": "code",
   "execution_count": 1,
   "metadata": {},
   "outputs": [],
   "source": [
    "import pandas as pd\n",
    "import spacy\n",
    "from spacy import displacy\n",
    "import fr_core_news_lg # md, sm\n",
    "nlp = fr_core_news_lg.load()\n",
    "from datetime import date\n",
    "import time\n",
    "import json\n"
   ]
  },
  {
   "cell_type": "code",
   "execution_count": 2,
   "metadata": {},
   "outputs": [],
   "source": [
    "# Variables à changer par l'utilisateur\n",
    "source_json = 'results/clean_w_names_24-01-23.json'\n",
    "pipeline = \"fr_core_news_lg\" # /!\\ PENSER À CHANGER PLUS HAUT\n",
    "\n",
    "# Importation des données depuis le JSON\n",
    "df = pd.read_json(source_json, orient='index')\n",
    "\n",
    "# Nombre de résultats dans la réponse produite, varie en fonction des essais\n",
    "# nb_a_traiter = len(df.index)\n",
    "nb_a_traiter = 10\n",
    "\n",
    "# Variable permettant de compter puis d'inscrire le nombre de \"personnes\" détéctées par la NER dans le nom du fichier de sortie final (pour contrôle)\n",
    "count_names = 0"
   ]
  },
  {
   "cell_type": "code",
   "execution_count": 3,
   "metadata": {},
   "outputs": [],
   "source": [
    "# Définition de l'en tête général\n",
    "date = time.strftime(\"%d-%m-%y\")\n",
    "\n",
    "# HTML description des labels\n",
    "labels_description = \"\"\"\n",
    "<p><strong>PERSON:</strong> People, including fictional.&emsp;<strong>NORP:</strong> Nationalities or religious or political groups.&emsp;\n",
    "<strong>FAC:</strong> Buildings, airports, highways, bridges, etc.&emsp;<strong>ORG:</strong> Companies, agencies, institutions, etc.&emsp;\n",
    "<strong>GPE:</strong> Countries, cities, states.&emsp;<strong>LOC:</strong> Non-GPE locations, mountain ranges, bodies of water.&emsp;\n",
    "<strong>PRODUCT:</strong> Objects, vehicles, foods, etc. (Not services.)&emsp;<strong>EVENT:</strong> Named hurricanes, battles, wars, sports events, etc.&emsp;\n",
    "<strong>WORK_OF_ART:</strong> Titles of books, songs, etc.&emsp;<strong>LAW:</strong> Named documents made into laws.&emsp;<strong>LANGUAGE:</strong> Any named language.&emsp;\n",
    "<strong>DATE:</strong> Absolute or relative dates or periods.&emsp;<strong>TIME:</strong> Times smaller than a day.&emsp;<strong>PERCENT:</strong> Percentage, including \"%\".&emsp;\n",
    "<strong>MONEY:</strong> Monetary values, including unit.&emsp;<strong>QUANTITY:</strong> Measurements, as of weight or distance.&emsp;<strong>ORDINAL:</strong> \"first\", \"second\", etc.&emsp;\n",
    "<strong>CARDINAL:</strong> Numerals that do not fall under another type.</p>\n",
    "\"\"\"\n",
    "\n",
    "heading = f\"\"\"\n",
    "    <p><strong>date:</strong> {date}</p>\n",
    "    <p><strong>source:</strong> {source_json}</p>\n",
    "    <p><strong>pipeline:</strong> {pipeline}</p>\n",
    "    <p><strong>quantity processessed:</strong> {nb_a_traiter}</p>\n",
    "    <hr>\n",
    "    {labels_description}\n",
    "    \"\"\"\n",
    "\n",
    "# (Re)création d'un fichier de sortie propre + en tête\n",
    "nom_fichier = f\"results/spacy_NER_{pipeline[-2:]}_{nb_a_traiter}\"\n",
    "\n",
    "with open(f\"{nom_fichier}.html\", \"w\") as fichier:\n",
    "    fichier.write(heading)"
   ]
  },
  {
   "cell_type": "code",
   "execution_count": 4,
   "metadata": {},
   "outputs": [],
   "source": [
    "# Personnalisation des couleurs du rendu\n",
    "colors = {\n",
    "    \"PER\": \"#97C7E8\",\n",
    "    \"ORG\": \"#A4DBA4\",\n",
    "    \"GPE\": \"#F2937C\",\n",
    "    \"LOC\": \"#AE9DF2\",\n",
    "    \"EVENT\": \"#E8BC76\",\n",
    "    \"WORK_OF_ART\": \"#DB99DB\",\n",
    "    \"MISC\": \"#F2A99D\",\n",
    "    \"DATE\": \"#A7F2BD\",\n",
    "    \"ORDINAL\": \"#E8D3A2\",\n",
    "    \"CARDINAL\": \"#E8D3A2\",\n",
    "}"
   ]
  },
  {
   "cell_type": "code",
   "execution_count": 5,
   "metadata": {},
   "outputs": [],
   "source": [
    "lists = []\n",
    "\n",
    "# Boucle de constitution : export PER + HTML\n",
    "# for i in range(nb_a_traiter): # range(len(df.index))\n",
    "for i in range(nb_a_traiter):\n",
    "    # NLP par spacy --------------------------------------------------------------------------\n",
    "    title = df.loc[i, 'area_title']\n",
    "    text = df.loc[i, 'area_text']\n",
    "    extracted_names = df.loc[i, 'extracted_names']\n",
    "    doc = nlp(text)\n",
    "\n",
    "    # Constitution de l'HTML de contrôle du NLP ----------------------------------------------\n",
    "    sentence_tokens = len([[token.text for token in sent] for sent in doc.sents])\n",
    "\n",
    "    # Génération du rendu displacy\n",
    "    html = displacy.render(doc, style=\"ent\", jupyter=False, page=True, options={\"colors\": colors})\n",
    "\n",
    "    # Définition de l'en tête pour chaque résultat\n",
    "    headings = f\"\"\"\n",
    "    <hr>\n",
    "    <p><strong>index:</strong> {i}</p>\n",
    "    <p><strong>title:</strong> {title}</p>\n",
    "    <p><strong>number of sentences:</strong> {sentence_tokens}</p>\n",
    "    \"\"\"\n",
    "\n",
    "    # Inscription de l'en tête + inscription de résultat\n",
    "    with open(f\"{nom_fichier}.html\", 'a') as fichier:\n",
    "        fichier.write(headings)\n",
    "        fichier.write(str(html))"
   ]
  }
 ],
 "metadata": {
  "kernelspec": {
   "display_name": "Python 3.10.8 64-bit",
   "language": "python",
   "name": "python3"
  },
  "language_info": {
   "codemirror_mode": {
    "name": "ipython",
    "version": 3
   },
   "file_extension": ".py",
   "mimetype": "text/x-python",
   "name": "python",
   "nbconvert_exporter": "python",
   "pygments_lexer": "ipython3",
   "version": "3.10.9 (main, Dec 15 2022, 17:11:09) [Clang 14.0.0 (clang-1400.0.29.202)]"
  },
  "orig_nbformat": 4,
  "vscode": {
   "interpreter": {
    "hash": "b0fa6594d8f4cbf19f97940f81e996739fb7646882a419484c72d19e05852a7e"
   }
  }
 },
 "nbformat": 4,
 "nbformat_minor": 2
}
